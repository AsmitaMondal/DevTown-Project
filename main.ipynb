{
 "cells": [
  {
   "cell_type": "code",
   "execution_count": 375,
   "id": "e0366f13",
   "metadata": {},
   "outputs": [],
   "source": [
    "import webbrowser"
   ]
  },
  {
   "cell_type": "code",
   "execution_count": 376,
   "id": "f1f0defc",
   "metadata": {},
   "outputs": [],
   "source": [
    "class Movie():\n",
    "    def __init__(self,mov_title,mov_summary,mov_image,mov_trailer,mov_rating,mov_director,mov_release):\n",
    "        self.title=mov_title\n",
    "        self.summary=mov_summary\n",
    "        self.image=mov_image\n",
    "        self.trailer=mov_trailer\n",
    "        self.rate=mov_rating\n",
    "        self.director=mov_director\n",
    "        self.releaseyear=mov_release\n",
    "        \n",
    "    def show_trailer(self):\n",
    "        webbrowser.open(self.trailer)\n",
    "        \n",
    "    def show_poster(self):\n",
    "        webbrowser.open(self.image)\n",
    "        \n",
    "    def show_info(self):\n",
    "        print(\"TITLE: \",self.title)\n",
    "        print(\"SUMMARY: \",self.summary)\n",
    "        print(\"IMDb RATING: \",self.rate)\n",
    "        print(\"DIRECTOR(s): \",self.director)\n",
    "        print(\"YEAR OF RELEASE: \",self.releaseyear)"
   ]
  },
  {
   "cell_type": "code",
   "execution_count": 377,
   "id": "23202fc6",
   "metadata": {},
   "outputs": [],
   "source": [
    "shawshank=Movie(\"The Shawshank Redemption\",\"Two prisoners develop a connection over the course of several years as they look for solace and, eventually, redemption through simple kindness.\",\"https://m.media-amazon.com/images/M/MV5BNDE3ODcxYzMtY2YzZC00NmNlLWJiNDMtZDViZWM2MzIxZDYwXkEyXkFqcGdeQXVyNjAwNDUxODI@._V1_FMjpg_UX1000_.jpg\",\"https://youtu.be/NmzuHjWmXOc\",\"9.3/10\",\"Frank Darabont\",\"1994\")"
   ]
  },
  {
   "cell_type": "code",
   "execution_count": 378,
   "id": "9d3436c1",
   "metadata": {},
   "outputs": [
    {
     "name": "stdout",
     "output_type": "stream",
     "text": [
      "TITLE:  The Shawshank Redemption\n",
      "SUMMARY:  Two prisoners develop a connection over the course of several years as they look for solace and, eventually, redemption through simple kindness.\n",
      "IMDb RATING:  9.3/10\n",
      "DIRECTOR(s):  Frank Darabont\n",
      "YEAR OF RELEASE:  1994\n"
     ]
    }
   ],
   "source": [
    "shawshank.show_info()"
   ]
  },
  {
   "cell_type": "code",
   "execution_count": 379,
   "id": "1da3c3a8",
   "metadata": {},
   "outputs": [],
   "source": [
    "godfather=Movie(\"The Godfather\",\"A mafia family's leader Don Vito Corleone decides to give his youngest son Michael control of his enterprise. The lives of his loved ones are, however, gravely endangered as a result of his unintended action.\",\"https://m.media-amazon.com/images/M/MV5BM2MyNjYxNmUtYTAwNi00MTYxLWJmNWYtYzZlODY3ZTk3OTFlXkEyXkFqcGdeQXVyNzkwMjQ5NzM@._V1_.jpg\",\"https://youtu.be/UaVTIH8mujA\",\"9.2/10\",\"Francis Ford Coppola\",\"1972\")"
   ]
  },
  {
   "cell_type": "code",
   "execution_count": 380,
   "id": "72d817c7",
   "metadata": {},
   "outputs": [
    {
     "name": "stdout",
     "output_type": "stream",
     "text": [
      "TITLE:  The Godfather\n",
      "SUMMARY:  A mafia family's leader Don Vito Corleone decides to give his youngest son Michael control of his enterprise. The lives of his loved ones are, however, gravely endangered as a result of his unintended action.\n",
      "IMDb RATING:  9.2/10\n",
      "DIRECTOR(s):  Francis Ford Coppola\n",
      "YEAR OF RELEASE:  1972\n"
     ]
    }
   ],
   "source": [
    "godfather.show_info()"
   ]
  },
  {
   "cell_type": "code",
   "execution_count": 381,
   "id": "de379b9c",
   "metadata": {},
   "outputs": [],
   "source": [
    "pulp=Movie(\"Pulp Fiction\",\"In four stories of brutality and redemption, the lives of two mob hitmen, a boxer, a gangster and his wife, and two diner bandits are intertwined.\",\"https://m.media-amazon.com/images/M/MV5BNGNhMDIzZTUtNTBlZi00MTRlLWFjM2ItYzViMjE3YzI5MjljXkEyXkFqcGdeQXVyNzkwMjQ5NzM@._V1_FMjpg_UX1000_.jpg\",\"https://youtu.be/s7EdQ4FqbhY\",\"8.9/10\",\"Quentin Tarantino\",\"1994\")"
   ]
  },
  {
   "cell_type": "code",
   "execution_count": 382,
   "id": "26a195c3",
   "metadata": {},
   "outputs": [
    {
     "name": "stdout",
     "output_type": "stream",
     "text": [
      "TITLE:  Pulp Fiction\n",
      "SUMMARY:  In four stories of brutality and redemption, the lives of two mob hitmen, a boxer, a gangster and his wife, and two diner bandits are intertwined.\n",
      "IMDb RATING:  8.9/10\n",
      "DIRECTOR(s):  Quentin Tarantino\n",
      "YEAR OF RELEASE:  1994\n"
     ]
    }
   ],
   "source": [
    "pulp.show_info()"
   ]
  },
  {
   "cell_type": "code",
   "execution_count": 383,
   "id": "3c78d4a3",
   "metadata": {},
   "outputs": [],
   "source": [
    "spider=Movie(\"Spider-Man: Across the Spider-Verse\",\"Miles Morales is propelled into the Multiverse and comes finds a group of Spider-People tasked with safeguarding its very survival. Miles must reevaluate what it means to be a hero when the heroes disagree over how to tackle a new threat.\",\"https://m.media-amazon.com/images/M/MV5BNDAzY2FkNjAtZGZlOS00YTE2LWE4YjctOGMwYzIxZWU4MDRiXkEyXkFqcGdeQXVyMTUzMTg2ODkz._V1_FMjpg_UX1000_.jpg\",\"https://youtu.be/cqGjhVJWtEg\",\"9.0/10\",\"Joaquim Dos Santos,Kemp Powers,Justin K. Thompson\",\"2023\")"
   ]
  },
  {
   "cell_type": "code",
   "execution_count": 384,
   "id": "67d166fa",
   "metadata": {},
   "outputs": [
    {
     "name": "stdout",
     "output_type": "stream",
     "text": [
      "TITLE:  Spider-Man: Across the Spider-Verse\n",
      "SUMMARY:  Miles Morales is propelled into the Multiverse and comes finds a group of Spider-People tasked with safeguarding its very survival. Miles must reevaluate what it means to be a hero when the heroes disagree over how to tackle a new threat.\n",
      "IMDb RATING:  9.0/10\n",
      "DIRECTOR(s):  Joaquim Dos Santos,Kemp Powers,Justin K. Thompson\n",
      "YEAR OF RELEASE:  2023\n"
     ]
    }
   ],
   "source": [
    "spider.show_info()"
   ]
  },
  {
   "cell_type": "code",
   "execution_count": 385,
   "id": "cd9a5d64",
   "metadata": {},
   "outputs": [],
   "source": [
    "incep=Movie(\"Inception\",\"The paradoxical duty of instilling an idea into the head of a C.E.O. is handed to a burglar who steals corporate secrets via dream-sharing technology, but his tragic history could doom the endeavour and his team to failure.\",\"https://m.media-amazon.com/images/M/MV5BMjAxMzY3NjcxNF5BMl5BanBnXkFtZTcwNTI5OTM0Mw@@._V1_FMjpg_UX1000_.jpg\",\"https://youtu.be/YoHD9XEInc0\",\"8.8/10\",\"Christopher Nolan\",\"2010\")"
   ]
  },
  {
   "cell_type": "code",
   "execution_count": 386,
   "id": "bd8df42a",
   "metadata": {},
   "outputs": [
    {
     "name": "stdout",
     "output_type": "stream",
     "text": [
      "TITLE:  Inception\n",
      "SUMMARY:  The paradoxical duty of instilling an idea into the head of a C.E.O. is handed to a burglar who steals corporate secrets via dream-sharing technology, but his tragic history could doom the endeavour and his team to failure.\n",
      "IMDb RATING:  8.8/10\n",
      "DIRECTOR(s):  Christopher Nolan\n",
      "YEAR OF RELEASE:  2010\n"
     ]
    }
   ],
   "source": [
    "incep.show_info()"
   ]
  },
  {
   "cell_type": "code",
   "execution_count": 387,
   "id": "75472f89",
   "metadata": {},
   "outputs": [],
   "source": [
    "press=Movie(\"The Prestige\",\"Following a horrific event, two stage magicians in 1890s London compete to conjure the greatest deception while risking everything to deceive one another.\",\"https://m.media-amazon.com/images/M/MV5BMjA4NDI0MTIxNF5BMl5BanBnXkFtZTYwNTM0MzY2._V1_FMjpg_UX1000_.jpg\",\"https://youtu.be/ELq7V8vkekI\",\"8.5/10\",\"Christopher Nolan\",\"2006\")"
   ]
  },
  {
   "cell_type": "code",
   "execution_count": 388,
   "id": "6a4ab422",
   "metadata": {},
   "outputs": [
    {
     "name": "stdout",
     "output_type": "stream",
     "text": [
      "TITLE:  The Prestige\n",
      "SUMMARY:  Following a horrific event, two stage magicians in 1890s London compete to conjure the greatest deception while risking everything to deceive one another.\n",
      "IMDb RATING:  8.5/10\n",
      "DIRECTOR(s):  Christopher Nolan\n",
      "YEAR OF RELEASE:  2006\n"
     ]
    }
   ],
   "source": [
    "press.show_info()"
   ]
  },
  {
   "cell_type": "code",
   "execution_count": 389,
   "id": "1c8f9b8b",
   "metadata": {},
   "outputs": [],
   "source": [
    "wall=Movie(\"WALL-E\",\"A little waste-collecting robot accidentally starts a space mission in the far future that will eventually determine the fate of humanity.\",\"https://m.media-amazon.com/images/M/MV5BMjExMTg5OTU0NF5BMl5BanBnXkFtZTcwMjMxMzMzMw@@._V1_.jpg\",\"https://youtu.be/CZ1CATNbXg0\",\"8.4/10\",\"Andrew Stanton\",\"2008\")"
   ]
  },
  {
   "cell_type": "code",
   "execution_count": 390,
   "id": "b41558f2",
   "metadata": {
    "scrolled": true
   },
   "outputs": [
    {
     "name": "stdout",
     "output_type": "stream",
     "text": [
      "TITLE:  WALL-E\n",
      "SUMMARY:  A little waste-collecting robot accidentally starts a space mission in the far future that will eventually determine the fate of humanity.\n",
      "IMDb RATING:  8.4/10\n",
      "DIRECTOR(s):  Andrew Stanton\n",
      "YEAR OF RELEASE:  2008\n"
     ]
    }
   ],
   "source": [
    "wall.show_info()"
   ]
  },
  {
   "cell_type": "code",
   "execution_count": 391,
   "id": "a1550609",
   "metadata": {},
   "outputs": [],
   "source": [
    "idiot=Movie(\"3 Idiots\",\"Two pals are looking for a long-lost friend. They reflect back to their time in college and remember their friend, who encouraged them to think creatively despite being labelled as \"\"idiots\"\" by the rest of the world.\",\"https://m.media-amazon.com/images/M/MV5BMWYxZWRiNzQtYTRmMC00MmQ2LTkwMmYtMWYzOTViYTgyMTE1XkEyXkFqcGdeQXVyNzMzMjU5NDY@._V1_.jpg\",\"https://youtu.be/K0eDlFX9GMc\",\"8.4/10\",\"Rajkumar Hirani\",\"2009\")"
   ]
  },
  {
   "cell_type": "code",
   "execution_count": 392,
   "id": "cee4167b",
   "metadata": {},
   "outputs": [
    {
     "name": "stdout",
     "output_type": "stream",
     "text": [
      "TITLE:  3 Idiots\n",
      "SUMMARY:  Two pals are looking for a long-lost friend. They reflect back to their time in college and remember their friend, who encouraged them to think creatively despite being labelled as idiots by the rest of the world.\n",
      "IMDb RATING:  8.4/10\n",
      "DIRECTOR(s):  Rajkumar Hirani\n",
      "YEAR OF RELEASE:  2009\n"
     ]
    }
   ],
   "source": [
    "idiot.show_info()"
   ]
  },
  {
   "cell_type": "code",
   "execution_count": 393,
   "id": "ec7544c7",
   "metadata": {},
   "outputs": [],
   "source": [
    "up=Movie(\"Up\",\"A youthful stowaway accidentally joins 78-year-old Carl Fredricksen as he makes his journey to Paradise Falls in his house outfitted with balloons.\",\"https://m.media-amazon.com/images/M/MV5BYjBkM2RjMzItM2M3Ni00N2NjLWE3NzMtMGY4MzE4MDAzMTRiXkEyXkFqcGdeQXVyNDUzOTQ5MjY@._V1_FMjpg_UX1000_.jpg\",\"https://youtu.be/ORFWdXl_zJ4\",\"8.3/10\",\"Pete Docter,Bob Peterson\",\"2009\")"
   ]
  },
  {
   "cell_type": "code",
   "execution_count": 394,
   "id": "bf3ebb35",
   "metadata": {},
   "outputs": [
    {
     "name": "stdout",
     "output_type": "stream",
     "text": [
      "TITLE:  Up\n",
      "SUMMARY:  A youthful stowaway accidentally joins 78-year-old Carl Fredricksen as he makes his journey to Paradise Falls in his house outfitted with balloons.\n",
      "IMDb RATING:  8.3/10\n",
      "DIRECTOR(s):  Pete Docter,Bob Peterson\n",
      "YEAR OF RELEASE:  2009\n"
     ]
    }
   ],
   "source": [
    "up.show_info()"
   ]
  },
  {
   "cell_type": "code",
   "execution_count": 395,
   "id": "fd9a3c97",
   "metadata": {},
   "outputs": [],
   "source": [
    "wolf=Movie(\"The Wolf of Wall Street\",\"Based on the real-life events that led Jordan Belfort from being a wealthy stockbroker enjoying the good life to his downfall through criminal activity, corruption, and involvement with the federal government.\",\"https://m.media-amazon.com/images/M/MV5BMjIxMjgxNTk0MF5BMl5BanBnXkFtZTgwNjIyOTg2MDE@._V1_.jpg\",\"https://youtu.be/iszwuX1AK6A\",\"8.2/10\",\"Martin Scorsese\",\"2013\")"
   ]
  },
  {
   "cell_type": "code",
   "execution_count": 396,
   "id": "b7aa6838",
   "metadata": {},
   "outputs": [
    {
     "name": "stdout",
     "output_type": "stream",
     "text": [
      "TITLE:  The Wolf of Wall Street\n",
      "SUMMARY:  Based on the real-life events that led Jordan Belfort from being a wealthy stockbroker enjoying the good life to his downfall through criminal activity, corruption, and involvement with the federal government.\n",
      "IMDb RATING:  8.2/10\n",
      "DIRECTOR(s):  Martin Scorsese\n",
      "YEAR OF RELEASE:  2013\n"
     ]
    }
   ],
   "source": [
    "wolf.show_info()"
   ]
  },
  {
   "cell_type": "code",
   "execution_count": 397,
   "id": "494a2a2e",
   "metadata": {},
   "outputs": [],
   "source": [
    "jurassic=Movie(\"Jurassic Park\",\"After a power outage sends the park's cloned dinosaurs on the loose, a pragmatic palaeontologist visiting an almost finished amusement park on an island in Central America is entrusted with defending a couple of children.\",\"https://m.media-amazon.com/images/M/MV5BMjM2MDgxMDg0Nl5BMl5BanBnXkFtZTgwNTM2OTM5NDE@._V1_FMjpg_UX1000_.jpg\",\"https://youtu.be/lc0UehYemQA\",\"8.2/10\",\"Steven Spielberg\",\"1993\")"
   ]
  },
  {
   "cell_type": "code",
   "execution_count": 398,
   "id": "6a141e05",
   "metadata": {},
   "outputs": [
    {
     "name": "stdout",
     "output_type": "stream",
     "text": [
      "TITLE:  Jurassic Park\n",
      "SUMMARY:  After a power outage sends the park's cloned dinosaurs on the loose, a pragmatic palaeontologist visiting an almost finished amusement park on an island in Central America is entrusted with defending a couple of children.\n",
      "IMDb RATING:  8.2/10\n",
      "DIRECTOR(s):  Steven Spielberg\n",
      "YEAR OF RELEASE:  1993\n"
     ]
    }
   ],
   "source": [
    "jurassic.show_info()"
   ]
  },
  {
   "cell_type": "code",
   "execution_count": 399,
   "id": "2c5fd580",
   "metadata": {},
   "outputs": [],
   "source": [
    "aladin=Movie(\"Aladdin\",\"An altruistic street urchin and a vain Grand Vizier compete for possession of a magic lamp that may grant their most sincere desires.\",\"https://m.media-amazon.com/images/M/MV5BZTg5ZTVmM2EtZjdhZC00MzBjLWEwZTYtNWIwZDczYzZkMzA4XkEyXkFqcGdeQXVyMTQxNzMzNDI@._V1_FMjpg_UX1000_.jpg\",\"https://youtu.be/eTjHiQKJUDY\",\"8.0/10\",\"Ron Clements,John Musker\",\"1992\")"
   ]
  },
  {
   "cell_type": "code",
   "execution_count": 400,
   "id": "18355be0",
   "metadata": {},
   "outputs": [
    {
     "name": "stdout",
     "output_type": "stream",
     "text": [
      "TITLE:  Aladdin\n",
      "SUMMARY:  An altruistic street urchin and a vain Grand Vizier compete for possession of a magic lamp that may grant their most sincere desires.\n",
      "IMDb RATING:  8.0/10\n",
      "DIRECTOR(s):  Ron Clements,John Musker\n",
      "YEAR OF RELEASE:  1992\n"
     ]
    }
   ],
   "source": [
    "aladin.show_info()"
   ]
  },
  {
   "cell_type": "code",
   "execution_count": 401,
   "id": "93441188",
   "metadata": {},
   "outputs": [],
   "source": [
    "inside=Movie(\"Inside Out\",\"Young Riley's emotions—Joy, Fear, Anger, Disgust, and Sadness—conflict as she adjusts to a new city, home, and school after being torn from her existence in the Midwest and brought to San Francisco.\",\"https://m.media-amazon.com/images/M/MV5BOTgxMDQwMDk0OF5BMl5BanBnXkFtZTgwNjU5OTg2NDE@._V1_.jpg\",\"https://youtu.be/yRUAzGQ3nSY\",\"8.1/10\",\"Pete Docter,Ronnie Del Carmen\",\"2015\")"
   ]
  },
  {
   "cell_type": "code",
   "execution_count": 402,
   "id": "d746ac8d",
   "metadata": {},
   "outputs": [
    {
     "name": "stdout",
     "output_type": "stream",
     "text": [
      "TITLE:  Inside Out\n",
      "SUMMARY:  Young Riley's emotions—Joy, Fear, Anger, Disgust, and Sadness—conflict as she adjusts to a new city, home, and school after being torn from her existence in the Midwest and brought to San Francisco.\n",
      "IMDb RATING:  8.1/10\n",
      "DIRECTOR(s):  Pete Docter,Ronnie Del Carmen\n",
      "YEAR OF RELEASE:  2015\n"
     ]
    }
   ],
   "source": [
    "inside.show_info()"
   ]
  },
  {
   "cell_type": "code",
   "execution_count": 403,
   "id": "b1a0759c",
   "metadata": {},
   "outputs": [],
   "source": [
    "nemo=Movie(\"Finding Nemo\",\"A timid clownfish embarks on a quest to return home when his son is kidnapped in the Great Barrier Reef and transferred to Sydney.\",\"https://m.media-amazon.com/images/M/MV5BZjMxYzBiNjUtZDliNC00MDAyLTg3N2QtOWNjNmNhZGQzNDg5XkEyXkFqcGdeQXVyNjE2MjQwNjc@._V1_FMjpg_UX1000_.jpg\",\"https://youtu.be/2zLkasScy7A\",\"8.2/10\",\"Andrew Stanton,Lee Unkrich\",\"2003\")"
   ]
  },
  {
   "cell_type": "code",
   "execution_count": 404,
   "id": "099be762",
   "metadata": {},
   "outputs": [
    {
     "name": "stdout",
     "output_type": "stream",
     "text": [
      "TITLE:  Finding Nemo\n",
      "SUMMARY:  A timid clownfish embarks on a quest to return home when his son is kidnapped in the Great Barrier Reef and transferred to Sydney.\n",
      "IMDb RATING:  8.2/10\n",
      "DIRECTOR(s):  Andrew Stanton,Lee Unkrich\n",
      "YEAR OF RELEASE:  2003\n"
     ]
    }
   ],
   "source": [
    "nemo.show_info()"
   ]
  },
  {
   "cell_type": "code",
   "execution_count": 405,
   "id": "ea811da8",
   "metadata": {},
   "outputs": [],
   "source": [
    "lion=Movie(\"The Lion King\",\"Simba the lion prince and his father are the target of his resentful uncle, who wants to take the throne for himself.\",\"https://m.media-amazon.com/images/M/MV5BYTYxNGMyZTYtMjE3MS00MzNjLWFjNmYtMDk3N2FmM2JiM2M1XkEyXkFqcGdeQXVyNjY5NDU4NzI@._V1_.jpg\",\"https://youtu.be/lFzVJEksoDY\",\"8.5/10\",\"Roger Allers,Rob Minkoff\",\"1994\")"
   ]
  },
  {
   "cell_type": "code",
   "execution_count": 406,
   "id": "fe354cef",
   "metadata": {},
   "outputs": [
    {
     "name": "stdout",
     "output_type": "stream",
     "text": [
      "TITLE:  The Lion King\n",
      "SUMMARY:  Simba the lion prince and his father are the target of his resentful uncle, who wants to take the throne for himself.\n",
      "IMDb RATING:  8.5/10\n",
      "DIRECTOR(s):  Roger Allers,Rob Minkoff\n",
      "YEAR OF RELEASE:  1994\n"
     ]
    }
   ],
   "source": [
    "lion.show_info()"
   ]
  },
  {
   "cell_type": "code",
   "execution_count": 407,
   "id": "a33fa4cc",
   "metadata": {},
   "outputs": [],
   "source": [
    "toy=Movie(\"Toy Story\",\"When a new spaceman action figure replaces a cowboy doll as the favourite toy in a boy's bedroom, the cowboy doll feels extremely threatened and envious.\",\"https://m.media-amazon.com/images/M/MV5BMDU2ZWJlMjktMTRhMy00ZTA5LWEzNDgtYmNmZTEwZTViZWJkXkEyXkFqcGdeQXVyNDQ2OTk4MzI@._V1_.jpg\",\"https://youtu.be/v-PjgYDrg70\",\"8.3/10\",\"John Lasseter\",\"1995\")"
   ]
  },
  {
   "cell_type": "code",
   "execution_count": 408,
   "id": "3875b74f",
   "metadata": {},
   "outputs": [
    {
     "name": "stdout",
     "output_type": "stream",
     "text": [
      "TITLE:  Toy Story\n",
      "SUMMARY:  When a new spaceman action figure replaces a cowboy doll as the favourite toy in a boy's bedroom, the cowboy doll feels extremely threatened and envious.\n",
      "IMDb RATING:  8.3/10\n",
      "DIRECTOR(s):  John Lasseter\n",
      "YEAR OF RELEASE:  1995\n"
     ]
    }
   ],
   "source": [
    "toy.show_info()"
   ]
  },
  {
   "cell_type": "code",
   "execution_count": 409,
   "id": "70a7a95f",
   "metadata": {},
   "outputs": [],
   "source": [
    "joke=Movie(\"Joker\",\"the transformation of Arthur Fleck into Gotham's clown prince and revolution's leader from an aspiring stand-up comedian and outcast.\",\"https://m.media-amazon.com/images/M/MV5BMTc5ODk4MzYtNDNiNi00YmE3LThlYjAtNDMwZmYyNWViM2QxXkEyXkFqcGdeQXVyMTA3MzQ4MTc0._V1_.jpg\",\"https://youtu.be/t433PEQGErc\",\"8.4/10\",\"Todd Phillips\",\"2019\")"
   ]
  },
  {
   "cell_type": "code",
   "execution_count": 410,
   "id": "22f258ee",
   "metadata": {},
   "outputs": [
    {
     "name": "stdout",
     "output_type": "stream",
     "text": [
      "TITLE:  Joker\n",
      "SUMMARY:  the transformation of Arthur Fleck into Gotham's clown prince and revolution's leader from an aspiring stand-up comedian and outcast.\n",
      "IMDb RATING:  8.4/10\n",
      "DIRECTOR(s):  Todd Phillips\n",
      "YEAR OF RELEASE:  2019\n"
     ]
    }
   ],
   "source": [
    "joke.show_info()"
   ]
  },
  {
   "cell_type": "code",
   "execution_count": 411,
   "id": "ac0ebd31",
   "metadata": {},
   "outputs": [],
   "source": [
    "avengers=Movie(\"Avengers: Infinity War\",\"To confront the great Thanos before his avalanche of destruction and ruin puts an end to the cosmos, the Avengers and their friends must be prepared to give everything they have.\",\"https://m.media-amazon.com/images/M/MV5BNDYxNjQyMjAtNTdiOS00NGYwLWFmNTAtNThmYjU5ZGI2YTI1XkEyXkFqcGdeQXVyMTMxODk2OTU@._V1_.jpg\",\"https://youtu.be/6ZfuNTqbHE8\",\"8.4/10\",\"Anthony Russo,Joe Russo\",\"2018\")"
   ]
  },
  {
   "cell_type": "code",
   "execution_count": 412,
   "id": "494fc5ba",
   "metadata": {},
   "outputs": [
    {
     "name": "stdout",
     "output_type": "stream",
     "text": [
      "TITLE:  Avengers: Infinity War\n",
      "SUMMARY:  To confront the great Thanos before his avalanche of destruction and ruin puts an end to the cosmos, the Avengers and their friends must be prepared to give everything they have.\n",
      "IMDb RATING:  8.4/10\n",
      "DIRECTOR(s):  Anthony Russo,Joe Russo\n",
      "YEAR OF RELEASE:  2018\n"
     ]
    }
   ],
   "source": [
    "avengers.show_info()"
   ]
  },
  {
   "cell_type": "code",
   "execution_count": 413,
   "id": "201628cb",
   "metadata": {},
   "outputs": [],
   "source": [
    "iron=Movie(\"Iron Man\",\"Billionaire engineer Tony Stark constructs a special weaponized suit of armour to battle evil after being kept captive in an Afghan cave.\",\"https://m.media-amazon.com/images/M/MV5BMTczNTI2ODUwOF5BMl5BanBnXkFtZTcwMTU0NTIzMw@@._V1_.jpg\",\"https://youtu.be/KAE5ymVLmZg\",\"7.9/10\",\"Jon Favreau\",\"2008\")"
   ]
  },
  {
   "cell_type": "code",
   "execution_count": 414,
   "id": "04e732fb",
   "metadata": {},
   "outputs": [
    {
     "name": "stdout",
     "output_type": "stream",
     "text": [
      "TITLE:  Iron Man\n",
      "SUMMARY:  Billionaire engineer Tony Stark constructs a special weaponized suit of armour to battle evil after being kept captive in an Afghan cave.\n",
      "IMDb RATING:  7.9/10\n",
      "DIRECTOR(s):  Jon Favreau\n",
      "YEAR OF RELEASE:  2008\n"
     ]
    }
   ],
   "source": [
    "iron.show_info()"
   ]
  },
  {
   "cell_type": "code",
   "execution_count": 415,
   "id": "1f5aeff0",
   "metadata": {},
   "outputs": [],
   "source": [
    "john=Movie(\"John Wick\",\"An ex-hitman comes out of retirement to find the thugs responsible for his dog's death and his car's theft.\",\"https://m.media-amazon.com/images/M/MV5BMTU2NjA1ODgzMF5BMl5BanBnXkFtZTgwMTM2MTI4MjE@._V1_FMjpg_UX1000_.jpg\",\"https://youtu.be/C0BMx-qxsP4\",\"7.4/10\",\"Chad Stahelski,David Leitch\",\"2014\")"
   ]
  },
  {
   "cell_type": "code",
   "execution_count": 416,
   "id": "5a4ae0e2",
   "metadata": {},
   "outputs": [
    {
     "name": "stdout",
     "output_type": "stream",
     "text": [
      "TITLE:  John Wick\n",
      "SUMMARY:  An ex-hitman comes out of retirement to find the thugs responsible for his dog's death and his car's theft.\n",
      "IMDb RATING:  7.4/10\n",
      "DIRECTOR(s):  Chad Stahelski,David Leitch\n",
      "YEAR OF RELEASE:  2014\n"
     ]
    }
   ],
   "source": [
    "john.show_info()"
   ]
  },
  {
   "cell_type": "code",
   "execution_count": 417,
   "id": "95a987e0",
   "metadata": {},
   "outputs": [],
   "source": [
    "avatar=Movie(\"Avatar: The Way of Water\",\"Living with his newfound family that was created on the extrasolar moon Pandora is Jake Sully. In order to defend their home, Jake must cooperate with Neytiri and the army of the Na'vi race as a recurring threat reappears to complete what had been begun.\",\"https://m.media-amazon.com/images/M/MV5BMWFmYmRiYzMtMTQ4YS00NjA5LTliYTgtMmM3OTc4OGY3MTFkXkEyXkFqcGdeQXVyODk4OTc3MTY@._V1_FMjpg_UX1000_.jpg\",\"https://youtu.be/d9MyW72ELq0\",\"7.7/10\",\"James Cameron\",\"2022\")"
   ]
  },
  {
   "cell_type": "code",
   "execution_count": 418,
   "id": "e50dba6b",
   "metadata": {},
   "outputs": [
    {
     "name": "stdout",
     "output_type": "stream",
     "text": [
      "TITLE:  Avatar: The Way of Water\n",
      "SUMMARY:  Living with his newfound family that was created on the extrasolar moon Pandora is Jake Sully. In order to defend their home, Jake must cooperate with Neytiri and the army of the Na'vi race as a recurring threat reappears to complete what had been begun.\n",
      "IMDb RATING:  7.7/10\n",
      "DIRECTOR(s):  James Cameron\n",
      "YEAR OF RELEASE:  2022\n"
     ]
    }
   ],
   "source": [
    "avatar.show_info()"
   ]
  },
  {
   "cell_type": "code",
   "execution_count": 419,
   "id": "a318784f",
   "metadata": {},
   "outputs": [],
   "source": [
    "inter=Movie(\"Interstellar\",\"Future farmer and ex-NASA pilot Joseph Cooper is charged with leading a team of researchers in a spacecraft to discover a new planet for humans to inhabit after Earth becomes untenable.\",\"https://m.media-amazon.com/images/M/MV5BZjdkOTU3MDktN2IxOS00OGEyLWFmMjktY2FiMmZkNWIyODZiXkEyXkFqcGdeQXVyMTMxODk2OTU@._V1_FMjpg_UX1000_.jpg\",\"https://youtu.be/zSWdZVtXT7E\",\"8.7/10\",\"Christopher Nolan\",\"2014\")"
   ]
  },
  {
   "cell_type": "code",
   "execution_count": 420,
   "id": "d9cb390d",
   "metadata": {},
   "outputs": [
    {
     "name": "stdout",
     "output_type": "stream",
     "text": [
      "TITLE:  Interstellar\n",
      "SUMMARY:  Future farmer and ex-NASA pilot Joseph Cooper is charged with leading a team of researchers in a spacecraft to discover a new planet for humans to inhabit after Earth becomes untenable.\n",
      "IMDb RATING:  8.7/10\n",
      "DIRECTOR(s):  Christopher Nolan\n",
      "YEAR OF RELEASE:  2014\n"
     ]
    }
   ],
   "source": [
    "inter.show_info()"
   ]
  },
  {
   "cell_type": "code",
   "execution_count": 421,
   "id": "8230957f",
   "metadata": {},
   "outputs": [],
   "source": [
    "movies=[up,godfather,inter,wall,avatar,john,iron,avengers,joke,toy,lion,nemo,aladin,jurassic,wolf,idiot,press,incep,spider,pulp,inside,shawshank]"
   ]
  },
  {
   "cell_type": "code",
   "execution_count": 422,
   "id": "1fed422a",
   "metadata": {},
   "outputs": [],
   "source": [
    "import webbrowser\n",
    "import os\n",
    "import re"
   ]
  },
  {
   "cell_type": "code",
   "execution_count": 423,
   "id": "8a93a26f",
   "metadata": {},
   "outputs": [],
   "source": [
    "\n",
    "\n",
    "main_page_head = '''\n",
    "<!DOCTYPE html>\n",
    "<html lang=\"en\">\n",
    "<head>\n",
    "    <meta charset=\"utf-8\">\n",
    "    <title>My Movies!</title>\n",
    "\n",
    "    <!-- Bootstrap 3 -->\n",
    "    <link rel=\"stylesheet\" href=\"https://netdna.bootstrapcdn.com/bootstrap/3.1.0/css/bootstrap.min.css\">\n",
    "    <link rel=\"stylesheet\" href=\"https://netdna.bootstrapcdn.com/bootstrap/3.1.0/css/bootstrap-theme.min.css\">\n",
    "    <script src=\"http://code.jquery.com/jquery-1.10.1.min.js\"></script>\n",
    "    <script src=\"https://netdna.bootstrapcdn.com/bootstrap/3.1.0/js/bootstrap.min.js\"></script>\n",
    "    <style type=\"text/css\" media=\"screen\">\n",
    "        body {\n",
    "            padding-top: 80px;\n",
    "        }\n",
    "        #trailer .modal-dialog {\n",
    "            margin-top: 200px;\n",
    "            width: 640px;\n",
    "            height: 480px;\n",
    "        }\n",
    "        .hanging-close {\n",
    "            position: absolute;\n",
    "            top: -12px;\n",
    "            right: -12px;\n",
    "            z-index: 9001;\n",
    "        }\n",
    "        #trailer-video {\n",
    "            width: 100%;\n",
    "            height: 100%;\n",
    "        }\n",
    "        .movie-tile {\n",
    "            margin-bottom: 20px;\n",
    "            padding-top: 20px;\n",
    "        }\n",
    "        .movie-tile:hover {\n",
    "            background-color: #EEE;\n",
    "            cursor: pointer;\n",
    "        }\n",
    "        .scale-media {\n",
    "            padding-bottom: 56.25%;\n",
    "            position: relative;\n",
    "        }\n",
    "        .scale-media iframe {\n",
    "            border: none;\n",
    "            height: 100%;\n",
    "            position: absolute;\n",
    "            width: 100%;\n",
    "            left: 0;\n",
    "            top: 0;\n",
    "            background-color: white;\n",
    "        }\n",
    "    </style>\n",
    "    <script type=\"text/javascript\" charset=\"utf-8\">\n",
    "        // Pause the video when the modal is closed\n",
    "        $(document).on('click', '.hanging-close, .modal-backdrop, .modal', function (event) {\n",
    "            // Remove the src so the player itself gets removed, as this is the only\n",
    "            // reliable way to ensure the video stops playing in IE\n",
    "            $(\"#trailer-video-container\").empty();\n",
    "        });\n",
    "        // Start playing the video whenever the trailer modal is opened\n",
    "        $(document).on('click', '.movie-tile', function (event) {\n",
    "            var trailerYouTubeId = $(this).attr('data-trailer-youtube-id')\n",
    "            var sourceUrl = 'http://www.youtube.com/embed/' + trailerYouTubeId + '?autoplay=1&html5=1';\n",
    "            $(\"#trailer-video-container\").empty().append($(\"<iframe></iframe>\", {\n",
    "              'id': 'trailer-video',\n",
    "              'type': 'text-html',\n",
    "              'src': sourceUrl,\n",
    "              'frameborder': 0\n",
    "            }));\n",
    "        });\n",
    "        // Animate in the movies when the page loads\n",
    "        $(document).ready(function () {\n",
    "          $('.movie-tile').hide().first().show(\"fast\", function showNext() {\n",
    "            $(this).next(\"div\").show(\"fast\", showNext);\n",
    "          });\n",
    "        });\n",
    "    </script>\n",
    "</head>\n",
    "'''\n",
    "\n",
    "\n",
    "\n",
    "main_page_content = '''\n",
    "  <body>\n",
    "    <!-- Trailer Video Modal -->\n",
    "    <div class=\"modal\" id=\"trailer\">\n",
    "      <div class=\"modal-dialog\">\n",
    "        <div class=\"modal-content\">\n",
    "          <a href=\"#\" class=\"hanging-close\" data-dismiss=\"modal\" aria-hidden=\"true\">\n",
    "            <img src=\"https://lh5.ggpht.com/v4-628SilF0HtHuHdu5EzxD7WRqOrrTIDi_MhEG6_qkNtUK5Wg7KPkofp_VJoF7RS2LhxwEFCO1ICHZlc-o_=s0#w=24&h=24\"/>\n",
    "          </a>\n",
    "          <div class=\"scale-media\" id=\"trailer-video-container\">\n",
    "          </div>\n",
    "        </div>\n",
    "      </div>\n",
    "    </div>\n",
    "\n",
    "    <!-- Main Page Content -->\n",
    "    <div class=\"container\">\n",
    "      <div class=\"navbar navbar-inverse navbar-fixed-top\" role=\"navigation\">\n",
    "        <div class=\"container\">\n",
    "          <div class=\"navbar-header\">\n",
    "            <a class=\"navbar-brand\" href=\"#\"><center>Movie Trailers Project</center></a>\n",
    "          </div>\n",
    "        </div>\n",
    "      </div>\n",
    "    </div>\n",
    "    <div class=\"container\">\n",
    "      {movie_tiles}\n",
    "    </div>\n",
    "  </body>\n",
    "</html>\n",
    "'''\n",
    "\n",
    "\n"
   ]
  },
  {
   "cell_type": "code",
   "execution_count": 424,
   "id": "7a127cef",
   "metadata": {},
   "outputs": [],
   "source": [
    "\n",
    "movie_tile_content = '''\n",
    "<div class=\"col-md-6 col-lg-4 movie-tile text-center\" data-trailer-youtube-id=\"{trailer_youtube_id}\" data-toggle=\"modal\" data-target=\"#trailer\">\n",
    "    <img src=\"{poster_image_url}\" width=\"220\" height=\"342\">\n",
    "    <h2>{movie_title}</h2>\n",
    "</div>\n",
    "'''\n",
    "\n"
   ]
  },
  {
   "cell_type": "code",
   "execution_count": 425,
   "id": "9bf4006e",
   "metadata": {},
   "outputs": [],
   "source": [
    "\n",
    "def create_movie_tiles_content(movies):\n",
    "   \n",
    "    content = ''\n",
    "    for movie in movies:\n",
    "       \n",
    "        youtube_id_match = re.search(\n",
    "            r'(?<=v=)[^&#]+', movie.trailer)\n",
    "        youtube_id_match = youtube_id_match or re.search(\n",
    "            r'(?<=be/)[^&#]+', movie.trailer)\n",
    "        trailer_youtube_id = (youtube_id_match.group(0) if youtube_id_match\n",
    "                              else None)\n",
    "\n",
    "        content += movie_tile_content.format(\n",
    "            movie_title=movie.title,\n",
    "            poster_image_url=movie.image,\n",
    "            trailer_youtube_id=trailer_youtube_id\n",
    "        )\n",
    "    return content\n"
   ]
  },
  {
   "cell_type": "code",
   "execution_count": 426,
   "id": "12241e73",
   "metadata": {},
   "outputs": [],
   "source": [
    "def open_movies_page(movies):\n",
    "\n",
    "    output_file = open('mymovies.html', 'w')\n",
    "\n",
    "\n",
    "    rendered_content = main_page_content.format(\n",
    "        movie_tiles=create_movie_tiles_content(movies))\n",
    "\n",
    "\n",
    "    output_file.write(main_page_head + rendered_content)\n",
    "    output_file.close()\n",
    "\n",
    "\n",
    "    url = os.path.abspath(output_file.name)\n",
    "    webbrowser.open('file://' + url, new=2)"
   ]
  },
  {
   "cell_type": "code",
   "execution_count": 427,
   "id": "a276ced1",
   "metadata": {},
   "outputs": [],
   "source": [
    "open_movies_page(movies)"
   ]
  }
 ],
 "metadata": {
  "kernelspec": {
   "display_name": "Python 3 (ipykernel)",
   "language": "python",
   "name": "python3"
  },
  "language_info": {
   "codemirror_mode": {
    "name": "ipython",
    "version": 3
   },
   "file_extension": ".py",
   "mimetype": "text/x-python",
   "name": "python",
   "nbconvert_exporter": "python",
   "pygments_lexer": "ipython3",
   "version": "3.10.9"
  }
 },
 "nbformat": 4,
 "nbformat_minor": 5
}
